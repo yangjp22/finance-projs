{
 "cells": [
  {
   "cell_type": "code",
   "execution_count": 1,
   "metadata": {
    "ExecuteTime": {
     "end_time": "2019-07-12T19:44:26.733650Z",
     "start_time": "2019-07-12T19:44:25.682440Z"
    }
   },
   "outputs": [],
   "source": [
    "import tushare as ts \n",
    "import datetime\n",
    "from matplotlib.pylab import date2num\n",
    "from matplotlib import pyplot as plt\n",
    "import mpl_finance as mpf\n",
    "from matplotlib import font_manager"
   ]
  },
  {
   "cell_type": "code",
   "execution_count": 2,
   "metadata": {
    "ExecuteTime": {
     "end_time": "2019-07-12T19:44:40.320804Z",
     "start_time": "2019-07-12T19:44:39.229456Z"
    }
   },
   "outputs": [],
   "source": [
    "start = '2018-05-01'\n",
    "end = '2018-06-30'\n",
    "df = ts.get_k_data('600118', start, end, ktype = 'D')\n",
    "# print(df.head())\n",
    "# transfer the date type into the numerical data, int or float\n",
    "df['date'] = df['date'].map(lambda x: date2num(datetime.datetime.strptime(x, '%Y-%m-%d')))\n",
    "# print(df.head())\n",
    "quotes = df.values"
   ]
  },
  {
   "cell_type": "code",
   "execution_count": 3,
   "metadata": {
    "ExecuteTime": {
     "end_time": "2019-07-12T19:45:09.645471Z",
     "start_time": "2019-07-12T19:45:08.981216Z"
    }
   },
   "outputs": [
    {
     "name": "stderr",
     "output_type": "stream",
     "text": [
      "d:\\language\\python\\lib\\site-packages\\pandas\\plotting\\_converter.py:129: FutureWarning: Using an implicitly registered datetime converter for a matplotlib plotting method. The converter was registered by pandas on import. Future versions of pandas will require you to explicitly register matplotlib converters.\n",
      "\n",
      "To register the converters:\n",
      "\t>>> from pandas.plotting import register_matplotlib_converters\n",
      "\t>>> register_matplotlib_converters()\n",
      "  warnings.warn(msg, FutureWarning)\n"
     ]
    },
    {
     "data": {
      "text/plain": [
       "[None,\n",
       " None,\n",
       " None,\n",
       " None,\n",
       " None,\n",
       " None,\n",
       " None,\n",
       " None,\n",
       " None,\n",
       " None,\n",
       " None,\n",
       " None,\n",
       " None,\n",
       " None,\n",
       " None,\n",
       " None,\n",
       " None,\n",
       " None,\n",
       " None,\n",
       " None,\n",
       " None,\n",
       " None,\n",
       " None,\n",
       " None]"
      ]
     },
     "execution_count": 3,
     "metadata": {},
     "output_type": "execute_result"
    },
    {
     "data": {
      "image/png": "[encoded data removed]",
      "text/plain": [
       "<Figure size 576x432 with 2 Axes>"
      ]
     },
     "metadata": {
      "needs_background": "light"
     },
     "output_type": "display_data"
    }
   ],
   "source": [
    "my_font = font_manager.FontProperties(fname = 'C:/Windows/Fonts/SimHei.ttf')\n",
    "\n",
    "fig, (ax1, ax2) = plt.subplots(2, sharex=True, figsize=(8, 6))\n",
    "mpf.candlestick_ochl(ax1, quotes, width=0.6, colorup='red', colordown='green', alpha=0.8)\n",
    "ax1.set_title('中国卫星', FontProperties=my_font)\n",
    "ax1.set_ylabel('Index Level')\n",
    "ax1.xaxis_date()\n",
    "plt.bar(quotes[:, 0], quotes[:, 5], width=0.5)\n",
    "ax2.set_ylabel('Trading Volume')\n",
    "plt.setp(plt.gca().get_xticklabels(), rotation=30)"
   ]
  }
 ],
 "metadata": {
  "kernelspec": {
   "display_name": "Python 3",
   "language": "python",
   "name": "python3"
  },
  "language_info": {
   "codemirror_mode": {
    "name": "ipython",
    "version": 3
   },
   "file_extension": ".py",
   "mimetype": "text/x-python",
   "name": "python",
   "nbconvert_exporter": "python",
   "pygments_lexer": "ipython3",
   "version": "3.6.2"
  },
  "toc": {
   "base_numbering": 1,
   "nav_menu": {},
   "number_sections": true,
   "sideBar": true,
   "skip_h1_title": false,
   "title_cell": "Table of Contents",
   "title_sidebar": "Contents",
   "toc_cell": false,
   "toc_position": {},
   "toc_section_display": true,
   "toc_window_display": false
  },
  "varInspector": {
   "cols": {
    "lenName": 16,
    "lenType": 16,
    "lenVar": 40
   },
   "kernels_config": {
    "python": {
     "delete_cmd_postfix": "",
     "delete_cmd_prefix": "del ",
     "library": "var_list.py",
     "varRefreshCmd": "print(var_dic_list())"
    },
    "r": {
     "delete_cmd_postfix": ") ",
     "delete_cmd_prefix": "rm(",
     "library": "var_list.r",
     "varRefreshCmd": "cat(var_dic_list()) "
    }
   },
   "types_to_exclude": [
    "module",
    "function",
    "builtin_function_or_method",
    "instance",
    "_Feature"
   ],
   "window_display": false
  }
 },
 "nbformat": 4,
 "nbformat_minor": 2
}
