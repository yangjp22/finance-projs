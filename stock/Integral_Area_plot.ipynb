{
 "cells": [
  {
   "cell_type": "code",
   "execution_count": 1,
   "metadata": {
    "ExecuteTime": {
     "end_time": "2019-07-12T19:40:40.451165Z",
     "start_time": "2019-07-12T19:40:40.123801Z"
    }
   },
   "outputs": [],
   "source": [
    "from matplotlib.patches import Polygon\n",
    "from matplotlib import pyplot as plt\n",
    "import numpy as np "
   ]
  },
  {
   "cell_type": "code",
   "execution_count": 2,
   "metadata": {
    "ExecuteTime": {
     "end_time": "2019-07-12T19:40:50.007310Z",
     "start_time": "2019-07-12T19:40:50.001853Z"
    }
   },
   "outputs": [],
   "source": [
    "# exponential function\n",
    "def function(x):\n",
    "    return 0.5 * np.exp(x) + 1"
   ]
  },
  {
   "cell_type": "code",
   "execution_count": 3,
   "metadata": {
    "ExecuteTime": {
     "end_time": "2019-07-12T19:41:43.035220Z",
     "start_time": "2019-07-12T19:41:43.029763Z"
    }
   },
   "outputs": [],
   "source": [
    "a, b = 0.5, 1.5\n",
    "x = np.linspace(0, 2)\n",
    "y = function(x)\n",
    "\n",
    "Ix = np.linspace(a, b)\n",
    "Iy = function(Ix)\n",
    "# generate the verters of polygon\n",
    "verters = [(a, 0)] + list(zip(Ix, Iy)) + [(b, 0)]"
   ]
  },
  {
   "cell_type": "code",
   "execution_count": 4,
   "metadata": {
    "ExecuteTime": {
     "end_time": "2019-07-12T19:42:22.765201Z",
     "start_time": "2019-07-12T19:42:22.376416Z"
    }
   },
   "outputs": [
    {
     "data": {
      "image/png": "[encoded data removed]",
      "text/plain": [
       "<Figure size 504x360 with 1 Axes>"
      ]
     },
     "metadata": {
      "needs_background": "light"
     },
     "output_type": "display_data"
    }
   ],
   "source": [
    "fig, ax = plt.subplots(figsize = (7,5))\n",
    "plt.plot(x, y, 'b', linewidth = 2)\n",
    "plt.ylim(bottom = 0)\n",
    "# generate an instance\n",
    "poly = Polygon(verters, facecolor = '0.7', edgecolor = '0.5')\n",
    "# plot the area\n",
    "ax.add_patch(poly)\n",
    "\n",
    "plt.text(0.5 * (a + b), 1, r\"$\\int_a^b f(x)\\mathrm{d}x$\", horizontalalignment = 'center')\n",
    "plt.figtext(0.9, 0.075, '$x$')\n",
    "plt.figtext(0.075, 0.9, '$x$')\n",
    "\n",
    "# setting the ticks and the ticklabels\n",
    "# plt.setp(ax, xticklabels = [, ,])\n",
    "ax.set_xticks((a, b))\n",
    "ax.set_xticklabels(('$a$', '$b$'))\n",
    "ax.set_yticks((function(a), function(b)))\n",
    "ax.set_yticklabels(('$f(a)$', '$f(b)$'))\n",
    "plt.grid(True)\n",
    "plt.show()"
   ]
  }
 ],
 "metadata": {
  "kernelspec": {
   "display_name": "Python 3",
   "language": "python",
   "name": "python3"
  },
  "language_info": {
   "codemirror_mode": {
    "name": "ipython",
    "version": 3
   },
   "file_extension": ".py",
   "mimetype": "text/x-python",
   "name": "python",
   "nbconvert_exporter": "python",
   "pygments_lexer": "ipython3",
   "version": "3.6.2"
  },
  "toc": {
   "base_numbering": 1,
   "nav_menu": {},
   "number_sections": true,
   "sideBar": true,
   "skip_h1_title": false,
   "title_cell": "Table of Contents",
   "title_sidebar": "Contents",
   "toc_cell": false,
   "toc_position": {},
   "toc_section_display": true,
   "toc_window_display": false
  },
  "varInspector": {
   "cols": {
    "lenName": 16,
    "lenType": 16,
    "lenVar": 40
   },
   "kernels_config": {
    "python": {
     "delete_cmd_postfix": "",
     "delete_cmd_prefix": "del ",
     "library": "var_list.py",
     "varRefreshCmd": "print(var_dic_list())"
    },
    "r": {
     "delete_cmd_postfix": ") ",
     "delete_cmd_prefix": "rm(",
     "library": "var_list.r",
     "varRefreshCmd": "cat(var_dic_list()) "
    }
   },
   "types_to_exclude": [
    "module",
    "function",
    "builtin_function_or_method",
    "instance",
    "_Feature"
   ],
   "window_display": false
  }
 },
 "nbformat": 4,
 "nbformat_minor": 2
}
