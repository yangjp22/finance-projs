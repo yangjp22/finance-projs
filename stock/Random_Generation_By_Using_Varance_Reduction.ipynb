{
 "cells": [
  {
   "cell_type": "code",
   "execution_count": 1,
   "metadata": {
    "ExecuteTime": {
     "end_time": "2019-07-12T02:15:30.442911Z",
     "start_time": "2019-07-12T02:15:30.438946Z"
    }
   },
   "outputs": [],
   "source": [
    "import numpy as np"
   ]
  },
  {
   "cell_type": "code",
   "execution_count": 2,
   "metadata": {
    "ExecuteTime": {
     "end_time": "2019-07-12T02:15:37.171509Z",
     "start_time": "2019-07-12T02:15:37.165556Z"
    }
   },
   "outputs": [],
   "source": [
    "def gen_sn(M, I, anti_paths=True, mo_math=True):\n",
    "    \"\"\"\n",
    "        Instructions: Generate random numbers for simulation\n",
    "        \n",
    "        Patameters:\n",
    "             M: number of time intervals for discretization\n",
    "             I: number of paths to be simulated\n",
    "             anti_paths: use of antithetic variates\n",
    "             mo_math: use of moment matching\n",
    "        \n",
    "        Return:\n",
    "             sn: random numbers for simulation by using the variance reduction technology\n",
    "    \"\"\"\n",
    "    if anti_paths is True:\n",
    "        sn = np.random.standard_normal((M + 1, int(I / 2)))\n",
    "        sn = np.concatenate((sn, -sn), axis=1)\n",
    "    else:\n",
    "        sn = np.random.standard_normal((M + 1, I))\n",
    "    if mo_math is True:\n",
    "        sn = (sn - sn.mean()) / sn.std()\n",
    "    return sn"
   ]
  }
 ],
 "metadata": {
  "kernelspec": {
   "display_name": "Python 3",
   "language": "python",
   "name": "python3"
  },
  "language_info": {
   "codemirror_mode": {
    "name": "ipython",
    "version": 3
   },
   "file_extension": ".py",
   "mimetype": "text/x-python",
   "name": "python",
   "nbconvert_exporter": "python",
   "pygments_lexer": "ipython3",
   "version": "3.6.2"
  },
  "toc": {
   "base_numbering": 1,
   "nav_menu": {},
   "number_sections": true,
   "sideBar": true,
   "skip_h1_title": false,
   "title_cell": "Table of Contents",
   "title_sidebar": "Contents",
   "toc_cell": false,
   "toc_position": {},
   "toc_section_display": true,
   "toc_window_display": false
  },
  "varInspector": {
   "cols": {
    "lenName": 16,
    "lenType": 16,
    "lenVar": 40
   },
   "kernels_config": {
    "python": {
     "delete_cmd_postfix": "",
     "delete_cmd_prefix": "del ",
     "library": "var_list.py",
     "varRefreshCmd": "print(var_dic_list())"
    },
    "r": {
     "delete_cmd_postfix": ") ",
     "delete_cmd_prefix": "rm(",
     "library": "var_list.r",
     "varRefreshCmd": "cat(var_dic_list()) "
    }
   },
   "types_to_exclude": [
    "module",
    "function",
    "builtin_function_or_method",
    "instance",
    "_Feature"
   ],
   "window_display": false
  }
 },
 "nbformat": 4,
 "nbformat_minor": 2
}
