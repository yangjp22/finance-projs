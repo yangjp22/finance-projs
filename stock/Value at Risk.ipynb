{
 "cells": [
  {
   "cell_type": "code",
   "execution_count": 1,
   "metadata": {
    "ExecuteTime": {
     "end_time": "2019-07-12T15:40:22.889366Z",
     "start_time": "2019-07-12T15:40:22.237480Z"
    }
   },
   "outputs": [],
   "source": [
    "import numpy as np\n",
    "from matplotlib import pyplot as plt\n",
    "import scipy.stats as scs\n",
    "%matplotlib inline"
   ]
  },
  {
   "cell_type": "markdown",
   "metadata": {},
   "source": [
    "# Value at Risk"
   ]
  },
  {
   "cell_type": "code",
   "execution_count": 2,
   "metadata": {
    "ExecuteTime": {
     "end_time": "2019-07-12T15:40:27.678817Z",
     "start_time": "2019-07-12T15:40:27.665896Z"
    }
   },
   "outputs": [],
   "source": [
    "S0 = 100\n",
    "rate = 0.05\n",
    "sigma = 0.25\n",
    "T = 30 / 365\n",
    "I = 100000\n",
    "ST = S0 * np.exp((rate - 0.5 * sigma ** 2) * T + sigma * np.sqrt(T) * np.random.standard_normal(I))"
   ]
  },
  {
   "cell_type": "code",
   "execution_count": 3,
   "metadata": {
    "ExecuteTime": {
     "end_time": "2019-07-12T15:40:31.001002Z",
     "start_time": "2019-07-12T15:40:30.745017Z"
    }
   },
   "outputs": [
    {
     "data": {
      "image/png": "[encoded data removed]",
      "text/plain": [
       "<Figure size 432x288 with 1 Axes>"
      ]
     },
     "metadata": {
      "needs_background": "light"
     },
     "output_type": "display_data"
    }
   ],
   "source": [
    "# calculate the absolute return, sort them to calculate the VaR\n",
    "gainLoss = np.sort(ST - S0)\n",
    "plt.hist(gainLoss, bins=50)\n",
    "plt.xlabel('Absolute Return')\n",
    "plt.ylabel('Frequency')\n",
    "plt.grid(True)"
   ]
  },
  {
   "cell_type": "code",
   "execution_count": 4,
   "metadata": {
    "ExecuteTime": {
     "end_time": "2019-07-12T15:40:33.485816Z",
     "start_time": "2019-07-12T15:40:33.472920Z"
    }
   },
   "outputs": [
    {
     "name": "stdout",
     "output_type": "stream",
     "text": [
      "Confidence Level    Value-at-Risk\n",
      "---------------------------------\n",
      "           99.99           22.882\n",
      "           99.90           19.699\n",
      "           99.00           15.246\n",
      "           97.50           13.025\n",
      "           95.00           10.962\n",
      "           90.00            8.623\n"
     ]
    }
   ],
   "source": [
    "# calculate the VaR at the different confidence level\n",
    "confidences = [0.01, 0.1, 1, 2.5, 5, 10]\n",
    "VaR = scs.scoreatpercentile(gainLoss, confidences)\n",
    "\n",
    "print(\"%16s %16s\" % ('Confidence Level', 'Value-at-Risk'))\n",
    "print(33 * '-')\n",
    "for confis, var in zip(confidences, VaR):\n",
    "    print(\"%16.2f %16.3f\" % (100 - confis, - var))"
   ]
  },
  {
   "cell_type": "markdown",
   "metadata": {},
   "source": [
    "# Conditional VaR"
   ]
  },
  {
   "cell_type": "code",
   "execution_count": 5,
   "metadata": {
    "ExecuteTime": {
     "end_time": "2019-07-12T15:40:36.220811Z",
     "start_time": "2019-07-12T15:40:36.208908Z"
    }
   },
   "outputs": [
    {
     "name": "stdout",
     "output_type": "stream",
     "text": [
      "Confidence Level Conditional Value-at-Risk\n",
      "---------------------------------\n",
      "           99.99           24.298\n",
      "           99.90           21.074\n",
      "           99.00           17.242\n",
      "           97.50           15.288\n",
      "           95.00           13.594\n",
      "           90.00           11.645\n"
     ]
    }
   ],
   "source": [
    "confidences = [0.01, 0.1, 1, 2.5, 5, 10]\n",
    "VaR = scs.scoreatpercentile(gainLoss, confidences)\n",
    "CVaR = [gainLoss[gainLoss < var].mean() for var in VaR]\n",
    "\n",
    "print(\"%16s %16s\" % ('Confidence Level', 'Conditional Value-at-Risk'))\n",
    "print(33 * '-')\n",
    "for confis, cvar in zip(confidences, CVaR):\n",
    "    print(\"%16.2f %16.3f\" % (100 - confis, - cvar))"
   ]
  },
  {
   "cell_type": "markdown",
   "metadata": {
    "ExecuteTime": {
     "end_time": "2019-07-12T14:59:31.533429Z",
     "start_time": "2019-07-12T14:59:31.528965Z"
    }
   },
   "source": [
    "Conditional VaR is the average of the loss excess VaR at the same confidence level.\n",
    "As we can see above, the absolute CVaR is greater than VaR"
   ]
  },
  {
   "cell_type": "markdown",
   "metadata": {},
   "source": [
    "# Credit Value Adjustment for Stock"
   ]
  },
  {
   "cell_type": "code",
   "execution_count": 6,
   "metadata": {
    "ExecuteTime": {
     "end_time": "2019-07-12T15:40:38.326141Z",
     "start_time": "2019-07-12T15:40:38.313248Z"
    }
   },
   "outputs": [],
   "source": [
    "S0 = 100.\n",
    "rate = 0.05\n",
    "sigma = 0.2\n",
    "T = 1.\n",
    "I = 100000\n",
    "ST = S0 * np.exp((rate - 0.5 * sigma ** 2) * T + sigma * np.sqrt(T) * np.random.standard_normal(I))"
   ]
  },
  {
   "cell_type": "code",
   "execution_count": 7,
   "metadata": {
    "ExecuteTime": {
     "end_time": "2019-07-12T15:40:39.875911Z",
     "start_time": "2019-07-12T15:40:39.865003Z"
    }
   },
   "outputs": [],
   "source": [
    "# Loss given default\n",
    "L = 0.5\n",
    "# probability of default yearly\n",
    "p = 0.01\n",
    "\n",
    "# Possion distribution, to evaluate the prob for each path and transit to corresponding time T\n",
    "D = np.random.poisson(p * T, I)\n",
    "# if the value is greater than 1, 100% default, set it to 1\n",
    "D = np.where(D > 1, 1, D)"
   ]
  },
  {
   "cell_type": "code",
   "execution_count": 8,
   "metadata": {
    "ExecuteTime": {
     "end_time": "2019-07-12T15:40:41.937130Z",
     "start_time": "2019-07-12T15:40:41.927707Z"
    }
   },
   "outputs": [
    {
     "name": "stdout",
     "output_type": "stream",
     "text": [
      "99.86370241746586 0.5086112971827147 99.35509112028313\n"
     ]
    }
   ],
   "source": [
    "# No default, discount and average of paths\n",
    "V0 = np.exp(- rate * T) * np.sum(ST) / I\n",
    "# present value of loss, discount and average of paths\n",
    "CVA = np.exp(- rate * T) * np.sum(ST * L * D) / I\n",
    "# value after credit risk adjustment\n",
    "V1 = np.exp(- rate * T) * np.sum(ST * (1 - L * D)) / I\n",
    "print(V0, CVA, V1)"
   ]
  },
  {
   "cell_type": "code",
   "execution_count": 20,
   "metadata": {
    "ExecuteTime": {
     "end_time": "2019-07-12T15:34:57.087821Z",
     "start_time": "2019-07-12T15:34:56.824409Z"
    }
   },
   "outputs": [
    {
     "name": "stderr",
     "output_type": "stream",
     "text": [
      "d:\\language\\python\\lib\\site-packages\\matplotlib\\axes\\_base.py:3610: MatplotlibDeprecationWarning: \n",
      "The `ymax` argument was deprecated in Matplotlib 3.0 and will be removed in 3.2. Use `top` instead.\n",
      "  alternative='`top`', obj_type='argument')\n"
     ]
    },
    {
     "data": {
      "text/plain": [
       "(0.0, 175)"
      ]
     },
     "execution_count": 20,
     "metadata": {},
     "output_type": "execute_result"
    },
    {
     "data": {
      "image/png": "[encoded data removed]",
      "text/plain": [
       "<Figure size 432x288 with 1 Axes>"
      ]
     },
     "metadata": {
      "needs_background": "light"
     },
     "output_type": "display_data"
    }
   ],
   "source": [
    "plt.hist(L * D * ST, bins = 50)\n",
    "plt.xlabel('Value at default')\n",
    "plt.ylabel('Frequency')\n",
    "plt.grid(True)\n",
    "plt.ylim(top=175)"
   ]
  },
  {
   "cell_type": "code",
   "execution_count": 9,
   "metadata": {
    "ExecuteTime": {
     "end_time": "2019-07-12T15:40:44.291979Z",
     "start_time": "2019-07-12T15:40:44.285532Z"
    }
   },
   "outputs": [
    {
     "name": "stdout",
     "output_type": "stream",
     "text": [
      "1016\n"
     ]
    }
   ],
   "source": [
    "# the number of non_loss\n",
    "print(np.count_nonzero(ST * L * D))"
   ]
  },
  {
   "cell_type": "markdown",
   "metadata": {},
   "source": [
    "# Credit Value Adjustment for Call option"
   ]
  },
  {
   "cell_type": "code",
   "execution_count": 10,
   "metadata": {
    "ExecuteTime": {
     "end_time": "2019-07-12T15:40:46.557591Z",
     "start_time": "2019-07-12T15:40:46.289753Z"
    }
   },
   "outputs": [
    {
     "name": "stderr",
     "output_type": "stream",
     "text": [
      "d:\\language\\python\\lib\\site-packages\\matplotlib\\axes\\_base.py:3610: MatplotlibDeprecationWarning: \n",
      "The `ymax` argument was deprecated in Matplotlib 3.0 and will be removed in 3.2. Use `top` instead.\n",
      "  alternative='`top`', obj_type='argument')\n"
     ]
    },
    {
     "data": {
      "text/plain": [
       "(0.0, 350)"
      ]
     },
     "execution_count": 10,
     "metadata": {},
     "output_type": "execute_result"
    },
    {
     "data": {
      "image/png": "[encoded data removed]",
      "text/plain": [
       "<Figure size 432x288 with 1 Axes>"
      ]
     },
     "metadata": {
      "needs_background": "light"
     },
     "output_type": "display_data"
    }
   ],
   "source": [
    "# Strike price\n",
    "K = 100 \n",
    "# payoff of call option\n",
    "hT = np.maximum(ST - K, 0)\n",
    "# present value of call option\n",
    "C0 = np.exp(-rate * T) * 1 / I * np.sum(hT)\n",
    "# present value of loss, discount and average of paths\n",
    "CVA = np.exp(-rate * T) * 1 / I * np.sum(L * D * hT)\n",
    "# value after credit risk adjustment\n",
    "C1 = np.exp(-rate * T) * 1 / I * np.sum((1 - L * D) * hT)\n",
    "\n",
    "plt.hist(L * D * hT, bins=50)\n",
    "plt.xlabel('loss')\n",
    "plt.ylabel('frequency')\n",
    "plt.grid(True)\n",
    "plt.ylim(top=350)"
   ]
  },
  {
   "cell_type": "code",
   "execution_count": 11,
   "metadata": {
    "ExecuteTime": {
     "end_time": "2019-07-12T15:41:18.268122Z",
     "start_time": "2019-07-12T15:41:18.257218Z"
    }
   },
   "outputs": [
    {
     "name": "stdout",
     "output_type": "stream",
     "text": [
      "562\n",
      "1016\n",
      "44282\n"
     ]
    }
   ],
   "source": [
    "# number of losses\n",
    "print(np.count_nonzero(L * D * hT))\n",
    "# number of defaults\n",
    "print(np.count_nonzero(D))\n",
    "# zero payoff\n",
    "print(I - np.count_nonzero(hT))  "
   ]
  },
  {
   "cell_type": "markdown",
   "metadata": {},
   "source": [
    "Options have different characteristics than conventional assets.\n",
    "We only see losses due to a little greater than 500 callbacks.\n",
    "But there are still about 1000 defaults.\n",
    "This result results from the fact that there is a high probability that the option will return 0 at expiration."
   ]
  }
 ],
 "metadata": {
  "kernelspec": {
   "display_name": "Python 3",
   "language": "python",
   "name": "python3"
  },
  "toc": {
   "base_numbering": 1,
   "nav_menu": {},
   "number_sections": true,
   "sideBar": true,
   "skip_h1_title": false,
   "title_cell": "Table of Contents",
   "title_sidebar": "Contents",
   "toc_cell": false,
   "toc_position": {},
   "toc_section_display": true,
   "toc_window_display": false
  },
  "varInspector": {
   "cols": {
    "lenName": 16,
    "lenType": 16,
    "lenVar": 40
   },
   "kernels_config": {
    "python": {
     "delete_cmd_postfix": "",
     "delete_cmd_prefix": "del ",
     "library": "var_list.py",
     "varRefreshCmd": "print(var_dic_list())"
    },
    "r": {
     "delete_cmd_postfix": ") ",
     "delete_cmd_prefix": "rm(",
     "library": "var_list.r",
     "varRefreshCmd": "cat(var_dic_list()) "
    }
   },
   "types_to_exclude": [
    "module",
    "function",
    "builtin_function_or_method",
    "instance",
    "_Feature"
   ],
   "window_display": false
  }
 },
 "nbformat": 4,
 "nbformat_minor": 2
}
