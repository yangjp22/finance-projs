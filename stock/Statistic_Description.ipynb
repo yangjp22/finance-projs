{
 "cells": [
  {
   "cell_type": "code",
   "execution_count": 1,
   "metadata": {
    "ExecuteTime": {
     "end_time": "2019-07-12T19:38:52.293114Z",
     "start_time": "2019-07-12T19:38:51.897802Z"
    }
   },
   "outputs": [],
   "source": [
    "import scipy.stats as scs\n",
    "import numpy as np "
   ]
  },
  {
   "cell_type": "code",
   "execution_count": 2,
   "metadata": {
    "ExecuteTime": {
     "end_time": "2019-07-12T19:39:01.922413Z",
     "start_time": "2019-07-12T19:39:01.913489Z"
    }
   },
   "outputs": [],
   "source": [
    "def print_statistics(data_1, data_2):\n",
    "    \"\"\"\n",
    "        Print selected statistics\n",
    "    \"\"\"\n",
    "    sta1 = scs.describe(data_1)\n",
    "    sta2 = scs.describe(data_2)\n",
    "\n",
    "    print('%14s %14s %14s' % ('statistic', 'data set 1', 'data set 2'))\n",
    "    print(45 * '-')\n",
    "\n",
    "    print('%14s %14.3f %14.3f' % ('size', sta1[0], sta2[0]))\n",
    "    print('%14s %14.3f %14.3f' % ('min', sta1[1][0], sta2[1][0]))\n",
    "    print('%14s %14.3f %14.3f' % ('max', sta1[1][1], sta2[1][1]))\n",
    "    print('%14s %14.3f %14.3f' % ('mean', sta1[2], sta2[2]))\n",
    "    print('%14s %14.3f %14.3f' % ('std', np.sqrt(sta1[3]), np.sqrt(sta2[3])))\n",
    "    print('%14s %14.3f %14.3f' % ('skew', sta1[3], sta2[3]))\n",
    "    print('%14s %14.3f %14.3f' % ('kurtosis', sta1[4], sta2[4]))\n"
   ]
  }
 ],
 "metadata": {
  "kernelspec": {
   "display_name": "Python 3",
   "language": "python",
   "name": "python3"
  },
  "language_info": {
   "codemirror_mode": {
    "name": "ipython",
    "version": 3
   },
   "file_extension": ".py",
   "mimetype": "text/x-python",
   "name": "python",
   "nbconvert_exporter": "python",
   "pygments_lexer": "ipython3",
   "version": "3.6.2"
  },
  "toc": {
   "base_numbering": 1,
   "nav_menu": {},
   "number_sections": true,
   "sideBar": true,
   "skip_h1_title": false,
   "title_cell": "Table of Contents",
   "title_sidebar": "Contents",
   "toc_cell": false,
   "toc_position": {},
   "toc_section_display": true,
   "toc_window_display": false
  },
  "varInspector": {
   "cols": {
    "lenName": 16,
    "lenType": 16,
    "lenVar": 40
   },
   "kernels_config": {
    "python": {
     "delete_cmd_postfix": "",
     "delete_cmd_prefix": "del ",
     "library": "var_list.py",
     "varRefreshCmd": "print(var_dic_list())"
    },
    "r": {
     "delete_cmd_postfix": ") ",
     "delete_cmd_prefix": "rm(",
     "library": "var_list.r",
     "varRefreshCmd": "cat(var_dic_list()) "
    }
   },
   "types_to_exclude": [
    "module",
    "function",
    "builtin_function_or_method",
    "instance",
    "_Feature"
   ],
   "window_display": false
  }
 },
 "nbformat": 4,
 "nbformat_minor": 2
}
