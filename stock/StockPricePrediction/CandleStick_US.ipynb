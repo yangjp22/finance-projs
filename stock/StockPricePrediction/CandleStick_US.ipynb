{
 "cells": [
  {
   "cell_type": "code",
   "execution_count": 1,
   "metadata": {
    "ExecuteTime": {
     "end_time": "2019-07-04T01:50:30.327644Z",
     "start_time": "2019-07-04T01:50:29.272502Z"
    }
   },
   "outputs": [],
   "source": [
    "# %matplotlib notebook\n",
    "import pandas\n",
    "from matplotlib import pyplot as plt\n",
    "import mpl_finance\n",
    "import matplotlib\n",
    "\n",
    "# using ggplot style\n",
    "matplotlib.style.use('ggplot')"
   ]
  },
  {
   "cell_type": "code",
   "execution_count": 2,
   "metadata": {
    "ExecuteTime": {
     "end_time": "2019-07-04T01:50:32.595826Z",
     "start_time": "2019-07-04T01:50:32.583426Z"
    }
   },
   "outputs": [],
   "source": [
    "def stockPricePlot(ticker):\n",
    "    # step 1. load data\n",
    "    history = pandas.read_csv('../Data/tickerListUS/Intraday/' + ticker + '.csv', parse_dates = True, index_col = 0)\n",
    "\n",
    "    # step 2. data manipulate\n",
    "    close = history['Close']\n",
    "    # manipulate the time \n",
    "    close = close.reset_index()\n",
    "    close['timestamp'] = close['timestamp'].map(matplotlib.dates.date2num)\n",
    "\n",
    "    ohlc = history[['Open','High','Low','Close']].resample('1H').ohlc()\n",
    "    ohlc = ohlc.reset_index()\n",
    "    ohlc['timestamp'] = ohlc['timestamp'].map(matplotlib.dates.date2num)\n",
    "\n",
    "    # step 3. plot figures. subplot 1: scatter plot. subplot 2: candle stick plot.\n",
    "    # step 3.1 scatter plot\n",
    "    subplot1 = plt.subplot2grid((2, 1), (0, 0), rowspan = 1, colspan = 1)\n",
    "    subplot1.xaxis_date() # time axis\n",
    "    subplot1.plot(close['timestamp'], close['Close'], 'b.')\n",
    "    plt.title(ticker)\n",
    "\n",
    "    # 3.2 candle stick\n",
    "    # for US_Stock, green represents close price is greater than open price, red represents close price is lower than open price\n",
    "    # for A_Stock, green represents close price is lower than open price, red represents close price is greater than open price\n",
    "    subplot2 = plt.subplot2grid((2, 1), (1, 0), rowspan = 1, colspan = 1, sharex = subplot1)\n",
    "    mpl_finance.candlestick_ohlc(ax = subplot2, quotes = ohlc.values, width = 0.01,\n",
    "                    colorup = 'g', colordown = 'r')\n",
    "    plt.show()"
   ]
  },
  {
   "cell_type": "code",
   "execution_count": 3,
   "metadata": {
    "ExecuteTime": {
     "end_time": "2019-07-04T01:55:53.450716Z",
     "start_time": "2019-07-04T01:50:35.903089Z"
    }
   },
   "outputs": [
    {
     "name": "stderr",
     "output_type": "stream",
     "text": [
      "d:\\language\\python\\lib\\site-packages\\pandas\\plotting\\_converter.py:129: FutureWarning: Using an implicitly registered datetime converter for a matplotlib plotting method. The converter was registered by pandas on import. Future versions of pandas will require you to explicitly register matplotlib converters.\n",
      "\n",
      "To register the converters:\n",
      "\t>>> from pandas.plotting import register_matplotlib_converters\n",
      "\t>>> register_matplotlib_converters()\n",
      "  warnings.warn(msg, FutureWarning)\n"
     ]
    },
    {
     "data": {
      "image/png": "[encoded data removed]",
      "text/plain": [
       "<Figure size 432x288 with 2 Axes>"
      ]
     },
     "metadata": {
      "needs_background": "light"
     },
     "output_type": "display_data"
    }
   ],
   "source": [
    "stockPricePlot('AAPL')"
   ]
  }
 ],
 "metadata": {
  "kernelspec": {
   "display_name": "Python 3",
   "language": "python",
   "name": "python3"
  },
  "language_info": {
   "codemirror_mode": {
    "name": "ipython",
    "version": 3
   },
   "file_extension": ".py",
   "mimetype": "text/x-python",
   "name": "python",
   "nbconvert_exporter": "python",
   "pygments_lexer": "ipython3",
   "version": "3.6.2"
  },
  "toc": {
   "base_numbering": 1,
   "nav_menu": {},
   "number_sections": true,
   "sideBar": true,
   "skip_h1_title": false,
   "title_cell": "Table of Contents",
   "title_sidebar": "Contents",
   "toc_cell": false,
   "toc_position": {},
   "toc_section_display": true,
   "toc_window_display": false
  },
  "varInspector": {
   "cols": {
    "lenName": 16,
    "lenType": 16,
    "lenVar": 40
   },
   "kernels_config": {
    "python": {
     "delete_cmd_postfix": "",
     "delete_cmd_prefix": "del ",
     "library": "var_list.py",
     "varRefreshCmd": "print(var_dic_list())"
    },
    "r": {
     "delete_cmd_postfix": ") ",
     "delete_cmd_prefix": "rm(",
     "library": "var_list.r",
     "varRefreshCmd": "cat(var_dic_list()) "
    }
   },
   "types_to_exclude": [
    "module",
    "function",
    "builtin_function_or_method",
    "instance",
    "_Feature"
   ],
   "window_display": false
  }
 },
 "nbformat": 4,
 "nbformat_minor": 2
}
