{
 "cells": [
  {
   "cell_type": "code",
   "execution_count": 1,
   "metadata": {
    "ExecuteTime": {
     "end_time": "2019-07-26T23:45:54.801717Z",
     "start_time": "2019-07-26T23:45:54.797730Z"
    }
   },
   "outputs": [],
   "source": [
    "import numpy as np"
   ]
  },
  {
   "cell_type": "code",
   "execution_count": 2,
   "metadata": {
    "ExecuteTime": {
     "end_time": "2019-07-26T23:45:56.186345Z",
     "start_time": "2019-07-26T23:45:56.181358Z"
    }
   },
   "outputs": [],
   "source": [
    "def y(x): return x ** 3 + 2 * x ** 2 - 5"
   ]
  },
  {
   "cell_type": "code",
   "execution_count": 3,
   "metadata": {
    "ExecuteTime": {
     "end_time": "2019-07-26T23:45:57.420763Z",
     "start_time": "2019-07-26T23:45:57.412789Z"
    }
   },
   "outputs": [],
   "source": [
    "# Increental search method\n",
    "def incremental_search(func, lower, upper, delta):\n",
    "    '''\n",
    "    : param func: the function to solve\n",
    "    : param lower: the left boundary x-axis value\n",
    "    : param upper: the right boundary x-axis vlaue\n",
    "    : param delata: the incremental value in searching\n",
    "    : return: the x-axis value of the root, number of iterations used\n",
    "    \n",
    "    '''\n",
    "    fa = func(lower)\n",
    "    c = lower + delta\n",
    "    fc = func(c)\n",
    "    n = 1\n",
    "    while np.sign(fa) == np.sign(fc):\n",
    "        if lower >= upper:\n",
    "            return lower - delta, n\n",
    "        lower = c\n",
    "        fa = func(lower)\n",
    "        c = lower + delta\n",
    "        fc = func(c)\n",
    "        n += 1\n",
    "\n",
    "    if fa == 0:\n",
    "        return lower, n\n",
    "    if fc == 0:\n",
    "        return c, n\n",
    "    else:\n",
    "        return (lower + c) / 2, n"
   ]
  },
  {
   "cell_type": "code",
   "execution_count": 4,
   "metadata": {
    "ExecuteTime": {
     "end_time": "2019-07-26T23:45:59.068879Z",
     "start_time": "2019-07-26T23:45:59.036967Z"
    }
   },
   "outputs": [
    {
     "name": "stdout",
     "output_type": "stream",
     "text": [
      "1.2414999999999783 6242\n"
     ]
    }
   ],
   "source": [
    "root, iterations = incremental_search(y, -5, 5, 0.001)\n",
    "print(root, iterations)"
   ]
  },
  {
   "cell_type": "code",
   "execution_count": 5,
   "metadata": {
    "ExecuteTime": {
     "end_time": "2019-07-26T23:46:00.254895Z",
     "start_time": "2019-07-26T23:46:00.245891Z"
    }
   },
   "outputs": [],
   "source": [
    "def bisection(func, lower, upper, tol=0.1, maxiter = 10):\n",
    "    '''\n",
    "    : param func: the function to solve\n",
    "    : param lower: the left boundary x-axis value\n",
    "    : param upper: the right boundary x-axis vlaue\n",
    "    : param tol: the precision of the solution\n",
    "    : param maxiter: Maximum number of iterations\n",
    "    : return: the x-axis value of the root, number of iterations used\n",
    "    \n",
    "    '''\n",
    "    mid = (lower + upper) * 0.5\n",
    "    n = 1\n",
    "    while n <= maxiter:\n",
    "        mid = (lower + upper) * 0.5\n",
    "        if func(mid) == 0 or abs(upper - lower) * 0.5 < tol:\n",
    "            return mid, n\n",
    "        \n",
    "        n += 1\n",
    "        if func(mid) < 0:\n",
    "            lower = mid\n",
    "        else:\n",
    "            upper = mid\n",
    "    \n",
    "    return mid, n"
   ]
  },
  {
   "cell_type": "code",
   "execution_count": 6,
   "metadata": {
    "ExecuteTime": {
     "end_time": "2019-07-26T23:46:01.769361Z",
     "start_time": "2019-07-26T23:46:01.763375Z"
    }
   },
   "outputs": [
    {
     "name": "stdout",
     "output_type": "stream",
     "text": [
      "1.241903305053711 20\n"
     ]
    }
   ],
   "source": [
    "root, iteration = bisection(y, -5, 5, 0.00001, 100)\n",
    "print(root, iteration)"
   ]
  },
  {
   "cell_type": "code",
   "execution_count": 7,
   "metadata": {
    "ExecuteTime": {
     "end_time": "2019-07-26T23:46:02.934453Z",
     "start_time": "2019-07-26T23:46:02.925478Z"
    }
   },
   "outputs": [],
   "source": [
    "def newton(func, df, x, tol=0.001, maxiter = 100):\n",
    "    '''\n",
    "    : param func: the function to solve\n",
    "    : param df: the derivative function of func\n",
    "    : param x: the initial guess value of x\n",
    "    : param tol: the precision of the solution\n",
    "    : param maxiter: Maximum number of iterations\n",
    "    : return: the x-axis value of the root, number of iterations used\n",
    "    \n",
    "    '''\n",
    "    count = 1\n",
    "    while count <= maxiter:\n",
    "        x1 = x - func(x)/df(x)\n",
    "        if abs(x1 - x) < tol:\n",
    "            return x1, count\n",
    "        \n",
    "        else:\n",
    "            x = x1\n",
    "            count += 1\n",
    "            \n",
    "    return None, count"
   ]
  },
  {
   "cell_type": "code",
   "execution_count": 8,
   "metadata": {
    "ExecuteTime": {
     "end_time": "2019-07-26T23:46:04.689230Z",
     "start_time": "2019-07-26T23:46:04.684243Z"
    }
   },
   "outputs": [],
   "source": [
    "def dy(x): return 3 * x ** 2 + 4 * x"
   ]
  },
  {
   "cell_type": "code",
   "execution_count": 9,
   "metadata": {
    "ExecuteTime": {
     "end_time": "2019-07-26T23:46:05.961699Z",
     "start_time": "2019-07-26T23:46:05.956714Z"
    }
   },
   "outputs": [
    {
     "name": "stdout",
     "output_type": "stream",
     "text": [
      "1.241896563034502 7\n"
     ]
    }
   ],
   "source": [
    "root, iteration = newton(y, dy, 5.0, 0.00001, 100)\n",
    "print(root, iteration)"
   ]
  },
  {
   "cell_type": "code",
   "execution_count": 10,
   "metadata": {
    "ExecuteTime": {
     "end_time": "2019-07-26T23:46:07.259131Z",
     "start_time": "2019-07-26T23:46:07.252152Z"
    }
   },
   "outputs": [],
   "source": [
    "def secant(func, lower, upper, tol=0.001, maxiter=100):\n",
    "    '''\n",
    "    : param func: the function to solve\n",
    "    : param lower: the left boundary x-axis value\n",
    "    : param upper: the right boundary x-axis vlaue\n",
    "    : param tol: the precision of the solution\n",
    "    : param maxiter: Maximum number of iterations\n",
    "    : return: the x-axis value of the root, number of iterations used\n",
    "    \n",
    "    '''\n",
    "    count = 1\n",
    "    while count <= maxiter:\n",
    "        c = upper - func(upper) * ((upper - lower)/(func(upper) - func(lower)))\n",
    "        if abs(c - upper) <= tol:\n",
    "            return c, count\n",
    "        \n",
    "        lower = upper\n",
    "        upper = c\n",
    "        count += 1\n",
    "        \n",
    "    return None, count"
   ]
  },
  {
   "cell_type": "code",
   "execution_count": 11,
   "metadata": {
    "ExecuteTime": {
     "end_time": "2019-07-26T23:46:08.963284Z",
     "start_time": "2019-07-26T23:46:08.956308Z"
    }
   },
   "outputs": [
    {
     "name": "stdout",
     "output_type": "stream",
     "text": [
      "1.2418965622558549 14\n"
     ]
    }
   ],
   "source": [
    "root, iteration = secant(y, -5, 5, 0.0001, 100)\n",
    "print(root, iteration)"
   ]
  },
  {
   "cell_type": "markdown",
   "metadata": {},
   "source": [
    "The speed: secant > newton > incremental_search > bisection\n",
    "The accuracy: newton > secant > bisection > incremental_search\n",
    "The iteraions: newton < secant < bisection < increamental_search\n",
    "\n",
    "Ways: first, using secant(high speed) to get the tolerance, or the maxiterations\n",
    "      second, using the bisections\n",
    "\n",
    "The scipy package:\n",
    "    scipy.optimize.bisect()\n",
    "    scipy.optimize.newton()\n",
    "    scipy.optimize.secant()\n",
    "    scipy.optimize.brentq()\n",
    "    scipy.optimize.fsolve()\n",
    "    scipy.optimize.root()"
   ]
  }
 ],
 "metadata": {
  "kernelspec": {
   "display_name": "Python 3",
   "language": "python",
   "name": "python3"
  },
  "language_info": {
   "codemirror_mode": {
    "name": "ipython",
    "version": 3
   },
   "file_extension": ".py",
   "mimetype": "text/x-python",
   "name": "python",
   "nbconvert_exporter": "python",
   "pygments_lexer": "ipython3",
   "version": "3.6.2"
  },
  "toc": {
   "base_numbering": 1,
   "nav_menu": {},
   "number_sections": true,
   "sideBar": true,
   "skip_h1_title": false,
   "title_cell": "Table of Contents",
   "title_sidebar": "Contents",
   "toc_cell": false,
   "toc_position": {},
   "toc_section_display": true,
   "toc_window_display": false
  },
  "varInspector": {
   "cols": {
    "lenName": 16,
    "lenType": 16,
    "lenVar": 40
   },
   "kernels_config": {
    "python": {
     "delete_cmd_postfix": "",
     "delete_cmd_prefix": "del ",
     "library": "var_list.py",
     "varRefreshCmd": "print(var_dic_list())"
    },
    "r": {
     "delete_cmd_postfix": ") ",
     "delete_cmd_prefix": "rm(",
     "library": "var_list.r",
     "varRefreshCmd": "cat(var_dic_list()) "
    }
   },
   "types_to_exclude": [
    "module",
    "function",
    "builtin_function_or_method",
    "instance",
    "_Feature"
   ],
   "window_display": false
  }
 },
 "nbformat": 4,
 "nbformat_minor": 2
}
