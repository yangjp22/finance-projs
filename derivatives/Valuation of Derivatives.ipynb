{
 "cells": [
  {
   "cell_type": "code",
   "execution_count": 1,
   "metadata": {
    "ExecuteTime": {
     "end_time": "2019-07-12T02:10:59.571541Z",
     "start_time": "2019-07-12T02:10:59.268914Z"
    }
   },
   "outputs": [],
   "source": [
    "import numpy as np \n",
    "import matplotlib.pyplot as plt\n",
    "%matplotlib inline"
   ]
  },
  {
   "cell_type": "markdown",
   "metadata": {},
   "source": [
    "Payoff of Call option\n",
    "<img src='Profit of European call.png'>\n",
    "Price of European call\n",
    "<img src='Price of European call.png'>\n",
    "Price of European call in Monte carlo simulation\n",
    "<img src='Price of European call in Monte carlo simulation.png'>"
   ]
  },
  {
   "cell_type": "code",
   "execution_count": 2,
   "metadata": {
    "ExecuteTime": {
     "end_time": "2019-07-12T02:11:01.388903Z",
     "start_time": "2019-07-12T02:11:01.381428Z"
    }
   },
   "outputs": [],
   "source": [
    "def gen_sn(M, I, anti_paths=True, mo_math=True):\n",
    "    \"\"\"\n",
    "        Instructions: Generate random numbers for simulation\n",
    "        \n",
    "        Patameters:\n",
    "             M: number of time intervals for discretization\n",
    "             I: number of paths to be simulated\n",
    "             anti_paths: use of antithetic variates\n",
    "             mo_math: use of moment matching\n",
    "        \n",
    "        Return:\n",
    "             sn: random numbers for simulation by using the variance reduction technology\n",
    "    \"\"\"\n",
    "    if anti_paths is True:\n",
    "        sn = np.random.standard_normal((M + 1, int(I / 2)))\n",
    "        sn = np.concatenate((sn, -sn), axis=1)\n",
    "    else:\n",
    "        sn = np.random.standard_normal((M + 1, I))\n",
    "    if mo_math is True:\n",
    "        sn = (sn - sn.mean()) / sn.std()\n",
    "    return sn"
   ]
  },
  {
   "cell_type": "code",
   "execution_count": 3,
   "metadata": {
    "ExecuteTime": {
     "end_time": "2019-07-12T02:11:03.648932Z",
     "start_time": "2019-07-12T02:11:03.644471Z"
    }
   },
   "outputs": [],
   "source": [
    "# the spot price\n",
    "S0 = 100.\n",
    "# the risk-free rate\n",
    "rate = 0.05\n",
    "# the volatility of underlying asset -- stock\n",
    "sigma = 0.25\n",
    "# time to maturity\n",
    "T = 1.0\n",
    "# the number of paths\n",
    "I = 50000"
   ]
  },
  {
   "cell_type": "markdown",
   "metadata": {},
   "source": [
    "# The static form"
   ]
  },
  {
   "cell_type": "code",
   "execution_count": 4,
   "metadata": {
    "ExecuteTime": {
     "end_time": "2019-07-12T02:11:05.544152Z",
     "start_time": "2019-07-12T02:11:05.524311Z"
    }
   },
   "outputs": [
    {
     "data": {
      "text/plain": [
       "10.086094180988125"
      ]
     },
     "execution_count": 4,
     "metadata": {},
     "output_type": "execute_result"
    }
   ],
   "source": [
    "def EuropeCall_Static(K):\n",
    "    \"\"\"\n",
    "    Instruction: Valuation of European call option in Black-Scholes-Merton by Mont Carlo simulation ( of index level at maturity )\n",
    "\n",
    "    Parameters:\n",
    "        k: strike price of the option\n",
    "\n",
    "    Return:\n",
    "        C0: the price of call option at time 0\n",
    "    \"\"\"\n",
    "    # generate the random number dz, single path\n",
    "    sn = gen_sn(1, I)\n",
    "    # simulate index level at maturity\n",
    "    ST = S0 * np.exp((rate - 0.5 * sigma ** 2) * T + sigma * np.sqrt(T) * sn[1])\n",
    "    # calculate payoff at maturity\n",
    "    hT = np.maximum(ST - K, 0)\n",
    "    # calculate MCS estimator, discount and take average of paths\n",
    "    C0 = np.exp(-rate * T) * 1 * np.sum(hT) / I\n",
    "    return C0\n",
    "\n",
    "EuropeCall_Static(105)"
   ]
  },
  {
   "cell_type": "markdown",
   "metadata": {},
   "source": [
    "# The Dynamic differential form"
   ]
  },
  {
   "cell_type": "code",
   "execution_count": 5,
   "metadata": {
    "ExecuteTime": {
     "end_time": "2019-07-12T02:11:08.055515Z",
     "start_time": "2019-07-12T02:11:08.044603Z"
    }
   },
   "outputs": [],
   "source": [
    "def Europe_Dynamic(K, option='call'):\n",
    "    \"\"\"\n",
    "        Instruction:\n",
    "            Valuation of European option in Black-Scholes-Merton by Monte Carlo simulation(of index level paths)\n",
    "       \n",
    "        Parameters:\n",
    "            K:（positive）strike price of the option\n",
    "            option:\n",
    "    \n",
    "        Return:\n",
    "            C0: the price of option as time 0\n",
    "    \"\"\"\n",
    "    M = 50\n",
    "    dt = T / M\n",
    "    # simulation of index level paths\n",
    "    S = np.zeros((M + 1, I))\n",
    "    S[0] = S0\n",
    "    # generate the random number dz\n",
    "    sn = gen_sn(M, I)\n",
    "    for t in range(1, M + 1):\n",
    "        S[t] = S[t - 1] * np.exp((rate - 0.5 * sigma ** 2) * dt + sigma * np.sqrt(dt) * sn[t])\n",
    "    # case-based calculation of payoff\n",
    "    if option == 'call':\n",
    "        hT = np.maximum(S[-1] - K, 0)\n",
    "    else:\n",
    "        hT = np.maximum(K - S[-1], 0)\n",
    "    # calculation of MCS estimator\n",
    "    C0 = np.exp(-rate * T) * 1 / I * np.sum(hT)\n",
    "    return C0"
   ]
  },
  {
   "cell_type": "code",
   "execution_count": 6,
   "metadata": {
    "ExecuteTime": {
     "end_time": "2019-07-12T02:11:10.096264Z",
     "start_time": "2019-07-12T02:11:09.788246Z"
    }
   },
   "outputs": [
    {
     "name": "stdout",
     "output_type": "stream",
     "text": [
      "8.054156986407085\n",
      "12.714633588186631\n"
     ]
    }
   ],
   "source": [
    "print(Europe_Dynamic(K=110.,option='call'))\n",
    "print(Europe_Dynamic(K=110.,option='put'))"
   ]
  },
  {
   "cell_type": "markdown",
   "metadata": {},
   "source": [
    "# The American Option"
   ]
  },
  {
   "cell_type": "code",
   "execution_count": 7,
   "metadata": {
    "ExecuteTime": {
     "end_time": "2019-07-12T02:11:11.391651Z",
     "start_time": "2019-07-12T02:11:11.381234Z"
    }
   },
   "outputs": [],
   "source": [
    "def American_Option(K, option='call'):\n",
    "    \"\"\"\n",
    "    Instructions:\n",
    "        Valuation of American option in Black-Scholes-Merton by Monte Carlo simulation by LSM algorithm\n",
    "    \n",
    "    Parameters\n",
    "        K: (positive) strike price of the option\n",
    "        option: type of the option to be valued ('call','put')\n",
    "        \n",
    "    Returns:\n",
    "        C0: estimated present value of American call option\n",
    "    \"\"\"\n",
    "    M = 50\n",
    "    dt = T / M\n",
    "    df = np.exp(-rate * dt)\n",
    "    # simulation of index levels\n",
    "    S = np.zeros((M + 1, I))\n",
    "    S[0] = S0\n",
    "    sn = gen_sn(M, I)\n",
    "    for t in range(1, M + 1):\n",
    "        S[t] = S[t - 1] * np.exp((rate - 0.5 * sigma ** 2) * dt\n",
    "                                 + sigma * np.sqrt(dt) * sn[t])\n",
    "    # case-based calculation of payoff\n",
    "    if option == 'call':\n",
    "        h = np.maximum(S - K, 0)\n",
    "    else:\n",
    "        h = np.maximum(K - S, 0)\n",
    "    # LSM algorithm\n",
    "    V = np.copy(h)\n",
    "    for t in range(M - 1, 0, -1):\n",
    "        reg = np.polyfit(S[t], V[t + 1] * df, 7)\n",
    "        C = np.polyval(reg, S[t])\n",
    "        V[t] = np.where(C > h[t], V[t + 1] * df, h[t])\n",
    "    # MSC estimator\n",
    "    C0 = df * 1 / I * np.sum(V[1])\n",
    "    return C0\n"
   ]
  },
  {
   "cell_type": "code",
   "execution_count": 8,
   "metadata": {
    "ExecuteTime": {
     "end_time": "2019-07-12T02:11:15.392613Z",
     "start_time": "2019-07-12T02:11:13.451944Z"
    }
   },
   "outputs": [
    {
     "name": "stdout",
     "output_type": "stream",
     "text": [
      "7.860278363784714\n",
      "13.653368657194042\n"
     ]
    }
   ],
   "source": [
    "print(American_Option(110.,option='call'))\n",
    "print(American_Option(110.,option='put'))"
   ]
  },
  {
   "cell_type": "markdown",
   "metadata": {},
   "source": [
    "#  Early exercise premium\n",
    "The value of European options lies below the value of American options.The difference between them is often referred to as an early exercise premium.\n",
    "Now, we estimate the premium by comparing the European and American option values within the same exercise price range as before.This time we choose the put option."
   ]
  },
  {
   "cell_type": "code",
   "execution_count": 9,
   "metadata": {
    "ExecuteTime": {
     "end_time": "2019-07-12T02:11:25.421075Z",
     "start_time": "2019-07-12T02:11:16.636244Z"
    }
   },
   "outputs": [],
   "source": [
    "euro_res = []\n",
    "amer_res =[]\n",
    "\n",
    "k_list = np.arange(80., 120.1, 5.)\n",
    "for K in k_list:\n",
    "    euro_res.append(Europe_Dynamic(K,'put'))\n",
    "    amer_res.append(American_Option(K,'put'))\n",
    "euro_res = np.array(euro_res)\n",
    "amer_res = np.array(amer_res)"
   ]
  },
  {
   "cell_type": "code",
   "execution_count": 10,
   "metadata": {
    "ExecuteTime": {
     "end_time": "2019-07-12T02:11:28.518882Z",
     "start_time": "2019-07-12T02:11:28.164739Z"
    }
   },
   "outputs": [
    {
     "data": {
      "image/png": "[encoded data removed]",
      "text/plain": [
       "<Figure size 576x432 with 2 Axes>"
      ]
     },
     "metadata": {
      "needs_background": "light"
     },
     "output_type": "display_data"
    }
   ],
   "source": [
    "fig, (ax1 ,ax2) = plt.subplots(2, 1, sharex=True, figsize=(8, 6))\n",
    "ax1. plot(k_list, euro_res,'b', label='European put')\n",
    "ax1. plot(k_list, amer_res,'ro',label='American put')\n",
    "ax1.set_ylabel('call option value')\n",
    "ax1.grid(True)\n",
    "ax1.legend(loc=0)\n",
    "\n",
    "wi = 1.0\n",
    "ax2.bar(k_list - wi / 2, (amer_res - euro_res) / euro_res * 100, wi)\n",
    "ax2.set_xlabel('strike')\n",
    "ax2.set_ylabel('early exercise premium in %')\n",
    "ax2.set_xlim(left=75, right=125)\n",
    "ax2.grid(True)"
   ]
  }
 ],
 "metadata": {
  "kernelspec": {
   "display_name": "Python 3",
   "language": "python",
   "name": "python3"
  },
  "toc": {
   "base_numbering": 1,
   "nav_menu": {},
   "number_sections": true,
   "sideBar": true,
   "skip_h1_title": false,
   "title_cell": "Table of Contents",
   "title_sidebar": "Contents",
   "toc_cell": false,
   "toc_position": {},
   "toc_section_display": true,
   "toc_window_display": false
  },
  "varInspector": {
   "cols": {
    "lenName": 16,
    "lenType": 16,
    "lenVar": 40
   },
   "kernels_config": {
    "python": {
     "delete_cmd_postfix": "",
     "delete_cmd_prefix": "del ",
     "library": "var_list.py",
     "varRefreshCmd": "print(var_dic_list())"
    },
    "r": {
     "delete_cmd_postfix": ") ",
     "delete_cmd_prefix": "rm(",
     "library": "var_list.r",
     "varRefreshCmd": "cat(var_dic_list()) "
    }
   },
   "types_to_exclude": [
    "module",
    "function",
    "builtin_function_or_method",
    "instance",
    "_Feature"
   ],
   "window_display": false
  }
 },
 "nbformat": 4,
 "nbformat_minor": 2
}
