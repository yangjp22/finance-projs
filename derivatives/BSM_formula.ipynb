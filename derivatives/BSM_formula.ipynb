{
 "cells": [
  {
   "cell_type": "code",
   "execution_count": 1,
   "metadata": {
    "ExecuteTime": {
     "end_time": "2019-07-12T19:46:42.315196Z",
     "start_time": "2019-07-12T19:46:41.866369Z"
    }
   },
   "outputs": [],
   "source": [
    "import numpy as np\n",
    "from scipy import stats"
   ]
  },
  {
   "cell_type": "code",
   "execution_count": 2,
   "metadata": {
    "ExecuteTime": {
     "end_time": "2019-07-12T19:46:55.072517Z",
     "start_time": "2019-07-12T19:46:55.064581Z"
    }
   },
   "outputs": [],
   "source": [
    "# Analytical Black-Scholes-Merton (BSM) Formula\n",
    "def bsm_call_value(S0, K, T, rate, sigma):\n",
    "    ''' \n",
    "    Instruction: Valuation of European call option in BSM model.\n",
    "    \n",
    "    Parameters\n",
    "        S0 : float\n",
    "            initial stock/index level\n",
    "        K : float\n",
    "            strike price\n",
    "        T : float\n",
    "            maturity date (in year fractions)\n",
    "        r : float\n",
    "            constant risk-free short rate\n",
    "        sigma : float\n",
    "            volatility factor in diffusion term\n",
    "        \n",
    "    Returns\n",
    "        value : float\n",
    "            present value of the European call option\n",
    "    '''\n",
    "    S0 = float(S0)\n",
    "    d1 = (np.log(S0 / K) + (rate + 0.5 * sigma ** 2) * T) / (sigma * np.sqrt(T))\n",
    "    d2 = (np.log(S0 / K) + (rate - 0.5 * sigma ** 2) * T) / (sigma * np.sqrt(T))\n",
    "     # stats.norm.cdf --> cumulative distribution function\n",
    "     #                    for normal distribution\n",
    "    value = (S0 * stats.norm.cdf(d1, 0.0, 1.0)\n",
    "            - K * exp(-rate * T) * stats.norm.cdf(d2, 0.0, 1.0))\n",
    "    return value"
   ]
  },
  {
   "cell_type": "code",
   "execution_count": 3,
   "metadata": {
    "ExecuteTime": {
     "end_time": "2019-07-12T19:47:05.951305Z",
     "start_time": "2019-07-12T19:47:05.944363Z"
    }
   },
   "outputs": [],
   "source": [
    "# Vega function\n",
    "def bsm_vega(S0, K, T, rate, sigma):\n",
    "    ''' \n",
    "    Instruction: Vega of European option in BSM model.\n",
    "    \n",
    "    Parameters:\n",
    "        S0 : float\n",
    "            initial stock/index level\n",
    "        K : float\n",
    "            strike price\n",
    "        T : float\n",
    "            maturity date (in year fractions)\n",
    "        r : float\n",
    "            constant risk-free short rate\n",
    "        sigma : float\n",
    "            volatility factor in diffusion term\n",
    "        \n",
    "    Returns\n",
    "        vega : float\n",
    "            partial derivative of BSM formula with respect\n",
    "            to sigma, i.e. Vega\n",
    "    '''\n",
    "    S0 = float(S0)\n",
    "    d1 = (np.log(S0 / K) + (rate + 0.5 * sigma ** 2) * T) / (sigma * np.sqrt(T))\n",
    "    # here is the pdf function rather than cdf function\n",
    "    vega = S0 * stats.norm.pdf(d1, 0.0, 1.0) * np.sqrt(T)\n",
    "    return vega"
   ]
  },
  {
   "cell_type": "code",
   "execution_count": 4,
   "metadata": {
    "ExecuteTime": {
     "end_time": "2019-07-12T19:47:14.814472Z",
     "start_time": "2019-07-12T19:47:14.808516Z"
    }
   },
   "outputs": [],
   "source": [
    "# Implied volatility function\n",
    "def bsm_call_imp_vol(S0, K, T, rate, C0, sigma_est, it=100):\n",
    "    ''' \n",
    "    Instructions: Implied volatility of European call option in BSM model.\n",
    "    \n",
    "    Parameters\n",
    "        S0 : float\n",
    "            initial stock/index level\n",
    "        K : float\n",
    "            strike price\n",
    "        T : float\n",
    "            maturity date (in year fractions)\n",
    "        r : float\n",
    "            constant risk-free short rate\n",
    "        sigma_est : float\n",
    "            estimate of impl. volatility\n",
    "        it : integer\n",
    "            number of iterations\n",
    "    \n",
    "    Returns \n",
    "        simga_est : float\n",
    "            numerically estimated implied volatility\n",
    "    '''\n",
    "    for i in range(it):\n",
    "        sigma_est -= ((bsm_call_value(S0, K, T, rate, sigma_est) - C0)\n",
    "                        / bsm_vega(S0, K, T, rate, sigma_est))\n",
    "    return sigma_est"
   ]
  }
 ],
 "metadata": {
  "kernelspec": {
   "display_name": "Python 3",
   "language": "python",
   "name": "python3"
  },
  "language_info": {
   "codemirror_mode": {
    "name": "ipython",
    "version": 3
   },
   "file_extension": ".py",
   "mimetype": "text/x-python",
   "name": "python",
   "nbconvert_exporter": "python",
   "pygments_lexer": "ipython3",
   "version": "3.6.2"
  },
  "toc": {
   "base_numbering": 1,
   "nav_menu": {},
   "number_sections": true,
   "sideBar": true,
   "skip_h1_title": false,
   "title_cell": "Table of Contents",
   "title_sidebar": "Contents",
   "toc_cell": false,
   "toc_position": {},
   "toc_section_display": true,
   "toc_window_display": false
  },
  "varInspector": {
   "cols": {
    "lenName": 16,
    "lenType": 16,
    "lenVar": 40
   },
   "kernels_config": {
    "python": {
     "delete_cmd_postfix": "",
     "delete_cmd_prefix": "del ",
     "library": "var_list.py",
     "varRefreshCmd": "print(var_dic_list())"
    },
    "r": {
     "delete_cmd_postfix": ") ",
     "delete_cmd_prefix": "rm(",
     "library": "var_list.r",
     "varRefreshCmd": "cat(var_dic_list()) "
    }
   },
   "types_to_exclude": [
    "module",
    "function",
    "builtin_function_or_method",
    "instance",
    "_Feature"
   ],
   "window_display": false
  }
 },
 "nbformat": 4,
 "nbformat_minor": 2
}
